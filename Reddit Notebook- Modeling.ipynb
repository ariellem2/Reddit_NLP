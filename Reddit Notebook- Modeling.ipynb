{
 "cells": [
  {
   "cell_type": "markdown",
   "metadata": {},
   "source": [
    "### Data Cleaning"
   ]
  },
  {
   "cell_type": "markdown",
   "metadata": {},
   "source": [
    "Your mission, should you choose to accept it, is to write a preprocessing function for all of your text. This functions should\n",
    "\n",
    "- remove punctuation,\n",
    "- stem or lemmatize each word of the text,\n",
    "- remove stopwords\n"
   ]
  },
  {
   "cell_type": "code",
   "execution_count": 1,
   "metadata": {},
   "outputs": [],
   "source": [
    "#EDA \n",
    "import pandas as pd \n",
    "import numpy as np   \n",
    "\n",
    "#NLP\n",
    "import regex as re\n",
    "import nltk\n",
    "\n",
    "#Plotting \n",
    "import matplotlib.pyplot as plt \n",
    "import seaborn as sns\n",
    "\n",
    "#Modeling \n",
    "from sklearn.model_selection import train_test_split, GridSearchCV, cross_val_score\n",
    "from sklearn.feature_extraction.text import CountVectorizer, TfidfVectorizer\n",
    "from sklearn.linear_model import LogisticRegression\n",
    "from sklearn.pipeline import Pipeline\n",
    "from sklearn.naive_bayes import MultinomialNB\n",
    "\n",
    "np.random.seed(42)\n",
    "\n",
    "#Warnings - to keep the notebook clean \n",
    "import warnings \n",
    "warnings.filterwarnings('ignore')\n",
    "pd.options.display.max_columns= 5000"
   ]
  },
  {
   "cell_type": "code",
   "execution_count": 2,
   "metadata": {},
   "outputs": [],
   "source": [
    "#I will clean from the CSV so I don't have to rerun the webscraping each time \n",
    "reddit = pd.read_csv('./combined_reddit_data.csv')"
   ]
  },
  {
   "cell_type": "code",
   "execution_count": 3,
   "metadata": {
    "scrolled": true
   },
   "outputs": [
    {
     "data": {
      "text/plain": [
       "selftext        object\n",
       "title           object\n",
       "domain          object\n",
       "created_utc      int64\n",
       "num_comments     int64\n",
       "subreddit       object\n",
       "is_self           bool\n",
       "timestamp       object\n",
       "dtype: object"
      ]
     },
     "execution_count": 3,
     "metadata": {},
     "output_type": "execute_result"
    }
   ],
   "source": [
    "#Check the datatypes\n",
    "reddit.dtypes"
   ]
  },
  {
   "cell_type": "code",
   "execution_count": 4,
   "metadata": {},
   "outputs": [
    {
     "data": {
      "text/html": [
       "<div>\n",
       "<style scoped>\n",
       "    .dataframe tbody tr th:only-of-type {\n",
       "        vertical-align: middle;\n",
       "    }\n",
       "\n",
       "    .dataframe tbody tr th {\n",
       "        vertical-align: top;\n",
       "    }\n",
       "\n",
       "    .dataframe thead th {\n",
       "        text-align: right;\n",
       "    }\n",
       "</style>\n",
       "<table border=\"1\" class=\"dataframe\">\n",
       "  <thead>\n",
       "    <tr style=\"text-align: right;\">\n",
       "      <th></th>\n",
       "      <th>selftext</th>\n",
       "      <th>title</th>\n",
       "      <th>domain</th>\n",
       "      <th>created_utc</th>\n",
       "      <th>num_comments</th>\n",
       "      <th>subreddit</th>\n",
       "      <th>is_self</th>\n",
       "      <th>timestamp</th>\n",
       "    </tr>\n",
       "  </thead>\n",
       "  <tbody>\n",
       "    <tr>\n",
       "      <th>0</th>\n",
       "      <td>NaN</td>\n",
       "      <td>Need to wash off grease, tree sap, oil, etc. b...</td>\n",
       "      <td>self.LifeProTips</td>\n",
       "      <td>1551621508</td>\n",
       "      <td>1</td>\n",
       "      <td>LifeProTips</td>\n",
       "      <td>True</td>\n",
       "      <td>2019-03-03</td>\n",
       "    </tr>\n",
       "    <tr>\n",
       "      <th>1</th>\n",
       "      <td>If you booked an airline ticket that charges c...</td>\n",
       "      <td>Airline Bag Fee Saving Tip</td>\n",
       "      <td>self.LifeProTips</td>\n",
       "      <td>1551622211</td>\n",
       "      <td>1</td>\n",
       "      <td>LifeProTips</td>\n",
       "      <td>True</td>\n",
       "      <td>2019-03-03</td>\n",
       "    </tr>\n",
       "    <tr>\n",
       "      <th>2</th>\n",
       "      <td>[removed]</td>\n",
       "      <td>Need to scan some documents but don’t have a s...</td>\n",
       "      <td>self.LifeProTips</td>\n",
       "      <td>1551622439</td>\n",
       "      <td>2</td>\n",
       "      <td>LifeProTips</td>\n",
       "      <td>True</td>\n",
       "      <td>2019-03-03</td>\n",
       "    </tr>\n",
       "    <tr>\n",
       "      <th>3</th>\n",
       "      <td>NaN</td>\n",
       "      <td>LPT Need to wash off grease, tree sap, oil, et...</td>\n",
       "      <td>self.LifeProTips</td>\n",
       "      <td>1551622542</td>\n",
       "      <td>2</td>\n",
       "      <td>LifeProTips</td>\n",
       "      <td>True</td>\n",
       "      <td>2019-03-03</td>\n",
       "    </tr>\n",
       "    <tr>\n",
       "      <th>4</th>\n",
       "      <td>NaN</td>\n",
       "      <td>LPT: When microwaving leftover rice put a glas...</td>\n",
       "      <td>self.LifeProTips</td>\n",
       "      <td>1551622755</td>\n",
       "      <td>928</td>\n",
       "      <td>LifeProTips</td>\n",
       "      <td>True</td>\n",
       "      <td>2019-03-03</td>\n",
       "    </tr>\n",
       "  </tbody>\n",
       "</table>\n",
       "</div>"
      ],
      "text/plain": [
       "                                            selftext  \\\n",
       "0                                                NaN   \n",
       "1  If you booked an airline ticket that charges c...   \n",
       "2                                          [removed]   \n",
       "3                                                NaN   \n",
       "4                                                NaN   \n",
       "\n",
       "                                               title            domain  \\\n",
       "0  Need to wash off grease, tree sap, oil, etc. b...  self.LifeProTips   \n",
       "1                         Airline Bag Fee Saving Tip  self.LifeProTips   \n",
       "2  Need to scan some documents but don’t have a s...  self.LifeProTips   \n",
       "3  LPT Need to wash off grease, tree sap, oil, et...  self.LifeProTips   \n",
       "4  LPT: When microwaving leftover rice put a glas...  self.LifeProTips   \n",
       "\n",
       "   created_utc  num_comments    subreddit  is_self   timestamp  \n",
       "0   1551621508             1  LifeProTips     True  2019-03-03  \n",
       "1   1551622211             1  LifeProTips     True  2019-03-03  \n",
       "2   1551622439             2  LifeProTips     True  2019-03-03  \n",
       "3   1551622542             2  LifeProTips     True  2019-03-03  \n",
       "4   1551622755           928  LifeProTips     True  2019-03-03  "
      ]
     },
     "execution_count": 4,
     "metadata": {},
     "output_type": "execute_result"
    }
   ],
   "source": [
    "reddit.head()"
   ]
  },
  {
   "cell_type": "code",
   "execution_count": 5,
   "metadata": {},
   "outputs": [],
   "source": [
    "#Function to clean data/ pre-processing \n",
    "\n",
    "def clean_text(df):\n",
    "    \n",
    "    df = df[df['selftext'] != '[removed]']                              \n",
    "    #remove the selftexts that were removed by reddit. \n",
    "    #I pulled enough data from the API to get rid of these and still have statistical significance \n",
    "    \n",
    "    df['selftext'].fillna(value= 'No subtext', inplace=True)            \n",
    "    #Change selftext NaN to empty string \n",
    "    \n",
    "    df['fulltext'] = df['title'] + ' ' + df['selftext']                 \n",
    "    #Combine selftext & title into one column \n",
    "    \n",
    "    df['subreddit'] = df['subreddit'].map({'LifeProTips':1,'explainlikeimfive':0})\n",
    "    #Change subreddit column to be a boolean number \n",
    "    \n",
    "    df['fulltext'] = [str(words).lower() for words in df['fulltext']]    \n",
    "    #Change all the text to lowercase \n",
    "    \n",
    "    df['fulltext'] = [(re.sub(r'[^\\w\\s]','', word)) for word in df['fulltext']]\n",
    "    #remove puncutation. Got this regex code from stack overflow, checked it in regex101.com and put it in a list comp\n",
    "    \n",
    "    return df"
   ]
  },
  {
   "cell_type": "code",
   "execution_count": 6,
   "metadata": {},
   "outputs": [],
   "source": [
    "#Apply the cleaning function to the reddit csv and rename as a different dataframe \n",
    "df = clean_text(reddit)"
   ]
  },
  {
   "cell_type": "code",
   "execution_count": 7,
   "metadata": {},
   "outputs": [
    {
     "data": {
      "text/html": [
       "<div>\n",
       "<style scoped>\n",
       "    .dataframe tbody tr th:only-of-type {\n",
       "        vertical-align: middle;\n",
       "    }\n",
       "\n",
       "    .dataframe tbody tr th {\n",
       "        vertical-align: top;\n",
       "    }\n",
       "\n",
       "    .dataframe thead th {\n",
       "        text-align: right;\n",
       "    }\n",
       "</style>\n",
       "<table border=\"1\" class=\"dataframe\">\n",
       "  <thead>\n",
       "    <tr style=\"text-align: right;\">\n",
       "      <th></th>\n",
       "      <th>selftext</th>\n",
       "      <th>title</th>\n",
       "      <th>domain</th>\n",
       "      <th>created_utc</th>\n",
       "      <th>num_comments</th>\n",
       "      <th>subreddit</th>\n",
       "      <th>is_self</th>\n",
       "      <th>timestamp</th>\n",
       "      <th>fulltext</th>\n",
       "    </tr>\n",
       "  </thead>\n",
       "  <tbody>\n",
       "    <tr>\n",
       "      <th>0</th>\n",
       "      <td>No subtext</td>\n",
       "      <td>Need to wash off grease, tree sap, oil, etc. b...</td>\n",
       "      <td>self.LifeProTips</td>\n",
       "      <td>1551621508</td>\n",
       "      <td>1</td>\n",
       "      <td>1</td>\n",
       "      <td>True</td>\n",
       "      <td>2019-03-03</td>\n",
       "      <td>need to wash off grease tree sap oil etc but d...</td>\n",
       "    </tr>\n",
       "    <tr>\n",
       "      <th>1</th>\n",
       "      <td>If you booked an airline ticket that charges c...</td>\n",
       "      <td>Airline Bag Fee Saving Tip</td>\n",
       "      <td>self.LifeProTips</td>\n",
       "      <td>1551622211</td>\n",
       "      <td>1</td>\n",
       "      <td>1</td>\n",
       "      <td>True</td>\n",
       "      <td>2019-03-03</td>\n",
       "      <td>airline bag fee saving tip if you booked an ai...</td>\n",
       "    </tr>\n",
       "    <tr>\n",
       "      <th>3</th>\n",
       "      <td>No subtext</td>\n",
       "      <td>LPT Need to wash off grease, tree sap, oil, et...</td>\n",
       "      <td>self.LifeProTips</td>\n",
       "      <td>1551622542</td>\n",
       "      <td>2</td>\n",
       "      <td>1</td>\n",
       "      <td>True</td>\n",
       "      <td>2019-03-03</td>\n",
       "      <td>lpt need to wash off grease tree sap oil etc b...</td>\n",
       "    </tr>\n",
       "    <tr>\n",
       "      <th>4</th>\n",
       "      <td>No subtext</td>\n",
       "      <td>LPT: When microwaving leftover rice put a glas...</td>\n",
       "      <td>self.LifeProTips</td>\n",
       "      <td>1551622755</td>\n",
       "      <td>928</td>\n",
       "      <td>1</td>\n",
       "      <td>True</td>\n",
       "      <td>2019-03-03</td>\n",
       "      <td>lpt when microwaving leftover rice put a glass...</td>\n",
       "    </tr>\n",
       "    <tr>\n",
       "      <th>9</th>\n",
       "      <td>No subtext</td>\n",
       "      <td>LPT Take an empty notebook and try to find a p...</td>\n",
       "      <td>self.LifeProTips</td>\n",
       "      <td>1551626665</td>\n",
       "      <td>9</td>\n",
       "      <td>1</td>\n",
       "      <td>True</td>\n",
       "      <td>2019-03-03</td>\n",
       "      <td>lpt take an empty notebook and try to find a p...</td>\n",
       "    </tr>\n",
       "  </tbody>\n",
       "</table>\n",
       "</div>"
      ],
      "text/plain": [
       "                                            selftext  \\\n",
       "0                                         No subtext   \n",
       "1  If you booked an airline ticket that charges c...   \n",
       "3                                         No subtext   \n",
       "4                                         No subtext   \n",
       "9                                         No subtext   \n",
       "\n",
       "                                               title            domain  \\\n",
       "0  Need to wash off grease, tree sap, oil, etc. b...  self.LifeProTips   \n",
       "1                         Airline Bag Fee Saving Tip  self.LifeProTips   \n",
       "3  LPT Need to wash off grease, tree sap, oil, et...  self.LifeProTips   \n",
       "4  LPT: When microwaving leftover rice put a glas...  self.LifeProTips   \n",
       "9  LPT Take an empty notebook and try to find a p...  self.LifeProTips   \n",
       "\n",
       "   created_utc  num_comments  subreddit  is_self   timestamp  \\\n",
       "0   1551621508             1          1     True  2019-03-03   \n",
       "1   1551622211             1          1     True  2019-03-03   \n",
       "3   1551622542             2          1     True  2019-03-03   \n",
       "4   1551622755           928          1     True  2019-03-03   \n",
       "9   1551626665             9          1     True  2019-03-03   \n",
       "\n",
       "                                            fulltext  \n",
       "0  need to wash off grease tree sap oil etc but d...  \n",
       "1  airline bag fee saving tip if you booked an ai...  \n",
       "3  lpt need to wash off grease tree sap oil etc b...  \n",
       "4  lpt when microwaving leftover rice put a glass...  \n",
       "9  lpt take an empty notebook and try to find a p...  "
      ]
     },
     "execution_count": 7,
     "metadata": {},
     "output_type": "execute_result"
    }
   ],
   "source": [
    "df.head()"
   ]
  },
  {
   "cell_type": "code",
   "execution_count": null,
   "metadata": {
    "scrolled": false
   },
   "outputs": [],
   "source": [
    "#Lemmatize\n",
    "lm= WordNetLemmatizer()\n",
    "\n",
    "df['fulltext'] = [\" \".join([lm.lemmatize(w) for w in i.split()]) for i in df['fulltext']]"
   ]
  },
  {
   "cell_type": "code",
   "execution_count": 8,
   "metadata": {},
   "outputs": [
    {
     "data": {
      "text/html": [
       "<div>\n",
       "<style scoped>\n",
       "    .dataframe tbody tr th:only-of-type {\n",
       "        vertical-align: middle;\n",
       "    }\n",
       "\n",
       "    .dataframe tbody tr th {\n",
       "        vertical-align: top;\n",
       "    }\n",
       "\n",
       "    .dataframe thead th {\n",
       "        text-align: right;\n",
       "    }\n",
       "</style>\n",
       "<table border=\"1\" class=\"dataframe\">\n",
       "  <thead>\n",
       "    <tr style=\"text-align: right;\">\n",
       "      <th></th>\n",
       "      <th>selftext</th>\n",
       "      <th>title</th>\n",
       "      <th>domain</th>\n",
       "      <th>created_utc</th>\n",
       "      <th>num_comments</th>\n",
       "      <th>subreddit</th>\n",
       "      <th>is_self</th>\n",
       "      <th>timestamp</th>\n",
       "      <th>fulltext</th>\n",
       "    </tr>\n",
       "  </thead>\n",
       "  <tbody>\n",
       "    <tr>\n",
       "      <th>0</th>\n",
       "      <td>No subtext</td>\n",
       "      <td>Need to wash off grease, tree sap, oil, etc. b...</td>\n",
       "      <td>self.LifeProTips</td>\n",
       "      <td>1551621508</td>\n",
       "      <td>1</td>\n",
       "      <td>1</td>\n",
       "      <td>True</td>\n",
       "      <td>2019-03-03</td>\n",
       "      <td>need to wash off grease tree sap oil etc but d...</td>\n",
       "    </tr>\n",
       "    <tr>\n",
       "      <th>1</th>\n",
       "      <td>If you booked an airline ticket that charges c...</td>\n",
       "      <td>Airline Bag Fee Saving Tip</td>\n",
       "      <td>self.LifeProTips</td>\n",
       "      <td>1551622211</td>\n",
       "      <td>1</td>\n",
       "      <td>1</td>\n",
       "      <td>True</td>\n",
       "      <td>2019-03-03</td>\n",
       "      <td>airline bag fee saving tip if you booked an ai...</td>\n",
       "    </tr>\n",
       "    <tr>\n",
       "      <th>3</th>\n",
       "      <td>No subtext</td>\n",
       "      <td>LPT Need to wash off grease, tree sap, oil, et...</td>\n",
       "      <td>self.LifeProTips</td>\n",
       "      <td>1551622542</td>\n",
       "      <td>2</td>\n",
       "      <td>1</td>\n",
       "      <td>True</td>\n",
       "      <td>2019-03-03</td>\n",
       "      <td>lpt need to wash off grease tree sap oil etc b...</td>\n",
       "    </tr>\n",
       "    <tr>\n",
       "      <th>4</th>\n",
       "      <td>No subtext</td>\n",
       "      <td>LPT: When microwaving leftover rice put a glas...</td>\n",
       "      <td>self.LifeProTips</td>\n",
       "      <td>1551622755</td>\n",
       "      <td>928</td>\n",
       "      <td>1</td>\n",
       "      <td>True</td>\n",
       "      <td>2019-03-03</td>\n",
       "      <td>lpt when microwaving leftover rice put a glass...</td>\n",
       "    </tr>\n",
       "    <tr>\n",
       "      <th>9</th>\n",
       "      <td>No subtext</td>\n",
       "      <td>LPT Take an empty notebook and try to find a p...</td>\n",
       "      <td>self.LifeProTips</td>\n",
       "      <td>1551626665</td>\n",
       "      <td>9</td>\n",
       "      <td>1</td>\n",
       "      <td>True</td>\n",
       "      <td>2019-03-03</td>\n",
       "      <td>lpt take an empty notebook and try to find a p...</td>\n",
       "    </tr>\n",
       "  </tbody>\n",
       "</table>\n",
       "</div>"
      ],
      "text/plain": [
       "                                            selftext  \\\n",
       "0                                         No subtext   \n",
       "1  If you booked an airline ticket that charges c...   \n",
       "3                                         No subtext   \n",
       "4                                         No subtext   \n",
       "9                                         No subtext   \n",
       "\n",
       "                                               title            domain  \\\n",
       "0  Need to wash off grease, tree sap, oil, etc. b...  self.LifeProTips   \n",
       "1                         Airline Bag Fee Saving Tip  self.LifeProTips   \n",
       "3  LPT Need to wash off grease, tree sap, oil, et...  self.LifeProTips   \n",
       "4  LPT: When microwaving leftover rice put a glas...  self.LifeProTips   \n",
       "9  LPT Take an empty notebook and try to find a p...  self.LifeProTips   \n",
       "\n",
       "   created_utc  num_comments  subreddit  is_self   timestamp  \\\n",
       "0   1551621508             1          1     True  2019-03-03   \n",
       "1   1551622211             1          1     True  2019-03-03   \n",
       "3   1551622542             2          1     True  2019-03-03   \n",
       "4   1551622755           928          1     True  2019-03-03   \n",
       "9   1551626665             9          1     True  2019-03-03   \n",
       "\n",
       "                                            fulltext  \n",
       "0  need to wash off grease tree sap oil etc but d...  \n",
       "1  airline bag fee saving tip if you booked an ai...  \n",
       "3  lpt need to wash off grease tree sap oil etc b...  \n",
       "4  lpt when microwaving leftover rice put a glass...  \n",
       "9  lpt take an empty notebook and try to find a p...  "
      ]
     },
     "execution_count": 8,
     "metadata": {},
     "output_type": "execute_result"
    }
   ],
   "source": [
    "#Check that the changes worked \n",
    "df.head()"
   ]
  },
  {
   "cell_type": "markdown",
   "metadata": {},
   "source": [
    "### Define Target and Features "
   ]
  },
  {
   "cell_type": "code",
   "execution_count": 9,
   "metadata": {},
   "outputs": [],
   "source": [
    "X = df['fulltext']\n",
    "y = df['subreddit']"
   ]
  },
  {
   "cell_type": "markdown",
   "metadata": {},
   "source": [
    "### Train Test Split "
   ]
  },
  {
   "cell_type": "code",
   "execution_count": 10,
   "metadata": {},
   "outputs": [],
   "source": [
    "X_train, X_test, y_train, y_test = train_test_split(X, y,\n",
    "                                                    random_state =42, \n",
    "                                                    stratify = y)"
   ]
  },
  {
   "cell_type": "code",
   "execution_count": 11,
   "metadata": {},
   "outputs": [
    {
     "data": {
      "text/plain": [
       "0    0.526846\n",
       "1    0.473154\n",
       "Name: subreddit, dtype: float64"
      ]
     },
     "execution_count": 11,
     "metadata": {},
     "output_type": "execute_result"
    }
   ],
   "source": [
    "# Check the baseline \n",
    "# Also check to see the balanced class\n",
    "\n",
    "y.value_counts(normalize = True )"
   ]
  },
  {
   "cell_type": "markdown",
   "metadata": {},
   "source": [
    "### Baseline Model - default parameters "
   ]
  },
  {
   "cell_type": "code",
   "execution_count": 12,
   "metadata": {},
   "outputs": [
    {
     "name": "stdout",
     "output_type": "stream",
     "text": [
      "Logreg train score:0.9997683039851715\n",
      "Logreg test score: 0.985406532314107\n",
      "Logreg cv score: 0.9881839779189544\n"
     ]
    }
   ],
   "source": [
    "#My first model will the baseline model, therefore I do not need a pipeline or gridsearch here. \n",
    "#I will instantiate and fit a regualr CountVecotrizer model and leave the default parameters\n",
    "\n",
    "cvec = CountVectorizer()\n",
    "cvec.fit(X_train, y_train)\n",
    "\n",
    "X_train_cvec = cvec.transform(X_train)\n",
    "X_test_cvec = cvec.transform(X_test)\n",
    "\n",
    "logreg = LogisticRegression()\n",
    "logreg.fit(X_train_cvec, y_train)\n",
    "\n",
    "#Print scores \n",
    "print(f'Logreg train score:{logreg.score(X_train_cvec, y_train)}')\n",
    "print(f'Logreg test score: {logreg.score(X_test_cvec, y_test)}')\n",
    "print(f'Logreg cv score: {cross_val_score(logreg, X_train_cvec, y_train, cv=5).mean()}')\n"
   ]
  },
  {
   "cell_type": "markdown",
   "metadata": {},
   "source": [
    "### What does a 99% score on the train data mean? "
   ]
  },
  {
   "cell_type": "markdown",
   "metadata": {},
   "source": [
    "Given the nearly perfect score on the train data, I need to dig deeper into the fulltext. \n",
    "- My baseline model is very good with the default parameters\n",
    "- This is most likely due to the keywords in the title: \"lpt\" and \"eli5\" \n",
    "- This text at the start of every subreddit title is most likely a requirement from the subreddit\n",
    "- In the model, it helps identify each subreddit very accurately \n",
    "\n",
    "Based on the above, I would like to remove these keywords to re-run the baseline model and for all models going forward. "
   ]
  },
  {
   "cell_type": "code",
   "execution_count": 13,
   "metadata": {},
   "outputs": [],
   "source": [
    "def remove_keywords(text):\n",
    "    df['fulltext'] = df['fulltext'].map(lambda x: x.replace('lpt', \" \"))\n",
    "    df['fulltext'] = df['fulltext'].map(lambda x: x.replace('eli5', \" \"))\n",
    "    df['fulltext'] = df['fulltext'].map(lambda x: x.replace('subtext', \" \"))    #also want to remove the word subtext since I combined the columns \n",
    "    return text"
   ]
  },
  {
   "cell_type": "code",
   "execution_count": 14,
   "metadata": {},
   "outputs": [],
   "source": [
    "df['fulltext'] = remove_keywords(df['fulltext'])"
   ]
  },
  {
   "cell_type": "code",
   "execution_count": 15,
   "metadata": {},
   "outputs": [
    {
     "data": {
      "text/plain": [
       "0    need to wash off grease tree sap oil etc but d...\n",
       "1    airline bag fee saving tip if you booked an ai...\n",
       "3      need to wash off grease tree sap oil etc but...\n",
       "4      when microwaving leftover rice put a glass o...\n",
       "9      take an empty notebook and try to find a pro...\n",
       "Name: fulltext, dtype: object"
      ]
     },
     "execution_count": 15,
     "metadata": {},
     "output_type": "execute_result"
    }
   ],
   "source": [
    "df['fulltext'].head()"
   ]
  },
  {
   "cell_type": "markdown",
   "metadata": {},
   "source": [
    "### Re-run the baseline model without the keywords in the data"
   ]
  },
  {
   "cell_type": "code",
   "execution_count": 16,
   "metadata": {},
   "outputs": [],
   "source": [
    "X = df['fulltext']\n",
    "y = df['subreddit']"
   ]
  },
  {
   "cell_type": "code",
   "execution_count": 17,
   "metadata": {},
   "outputs": [],
   "source": [
    "X_train, X_test, y_train, y_test = train_test_split(X, y,\n",
    "                                                    random_state =42, \n",
    "                                                    stratify = y)"
   ]
  },
  {
   "cell_type": "code",
   "execution_count": 18,
   "metadata": {
    "scrolled": false
   },
   "outputs": [
    {
     "name": "stdout",
     "output_type": "stream",
     "text": [
      "Logreg train score:0.9988415199258572\n",
      "Logreg test score: 0.9589993050729674\n",
      "Logreg cv score: 0.9557489304951015\n"
     ]
    }
   ],
   "source": [
    "#Same code as above\n",
    "\n",
    "cvec = CountVectorizer()\n",
    "cvec.fit(X_train, y_train)\n",
    "\n",
    "X_train_cvec = cvec.transform(X_train)\n",
    "X_test_cvec = cvec.transform(X_test)\n",
    "\n",
    "logreg = LogisticRegression()\n",
    "logreg.fit(X_train_cvec, y_train)\n",
    "\n",
    "#Print scores \n",
    "print(f'Logreg train score:{logreg.score(X_train_cvec, y_train)}')\n",
    "print(f'Logreg test score: {logreg.score(X_test_cvec, y_test)}')\n",
    "print(f'Logreg cv score: {cross_val_score(logreg, X_train_cvec, y_train, cv=5).mean()}')"
   ]
  },
  {
   "cell_type": "markdown",
   "metadata": {},
   "source": [
    "After removing the keywords, the scores did decreases slighty. Next, I will build a pipeline and gridsearch to tune the hyper parameters and try to improve the test score."
   ]
  },
  {
   "cell_type": "code",
   "execution_count": 19,
   "metadata": {},
   "outputs": [],
   "source": [
    "# Create empty lists & function in order to plot the scores at the end \n",
    "train_scores = []\n",
    "test_scores = []\n",
    "\n",
    "def record_scores(list_name, score):\n",
    "    list_name.append(score)\n"
   ]
  },
  {
   "cell_type": "code",
   "execution_count": 20,
   "metadata": {},
   "outputs": [
    {
     "name": "stdout",
     "output_type": "stream",
     "text": [
      "[0.9988415199258572]\n",
      "[0.9589993050729674]\n"
     ]
    }
   ],
   "source": [
    "record_scores(train_scores, logreg.score(X_train_cvec, y_train))\n",
    "record_scores(test_scores, logreg.score(X_test_cvec, y_test))\n",
    "\n",
    "print(train_scores)\n",
    "print(test_scores)"
   ]
  },
  {
   "cell_type": "markdown",
   "metadata": {},
   "source": [
    "# Optimize Model to find the Best Parameters"
   ]
  },
  {
   "cell_type": "markdown",
   "metadata": {},
   "source": [
    "### Pipeline "
   ]
  },
  {
   "cell_type": "code",
   "execution_count": 21,
   "metadata": {},
   "outputs": [
    {
     "data": {
      "text/plain": [
       "Pipeline(memory=None,\n",
       "     steps=[('cvec', CountVectorizer(analyzer='word', binary=False, decode_error='strict',\n",
       "        dtype=<class 'numpy.int64'>, encoding='utf-8', input='content',\n",
       "        lowercase=True, max_df=1.0, max_features=None, min_df=1,\n",
       "        ngram_range=(1, 1), preprocessor=None, stop_words=None,\n",
       "        strip...penalty='l2', random_state=None, solver='warn',\n",
       "          tol=0.0001, verbose=0, warm_start=False))])"
      ]
     },
     "execution_count": 21,
     "metadata": {},
     "output_type": "execute_result"
    }
   ],
   "source": [
    "pipe = Pipeline([\n",
    "    ('cvec', CountVectorizer()), \n",
    "    ('logreg', LogisticRegression())\n",
    "])\n",
    "\n",
    "pipe"
   ]
  },
  {
   "cell_type": "markdown",
   "metadata": {},
   "source": [
    "### Gridsearch"
   ]
  },
  {
   "cell_type": "code",
   "execution_count": 22,
   "metadata": {},
   "outputs": [
    {
     "data": {
      "text/plain": [
       "GridSearchCV(cv=3, error_score='raise-deprecating',\n",
       "       estimator=Pipeline(memory=None,\n",
       "     steps=[('cvec', CountVectorizer(analyzer='word', binary=False, decode_error='strict',\n",
       "        dtype=<class 'numpy.int64'>, encoding='utf-8', input='content',\n",
       "        lowercase=True, max_df=1.0, max_features=None, min_df=1,\n",
       "        ngram_range=(1, 1), preprocessor=None, stop_words=None,\n",
       "        strip...penalty='l2', random_state=None, solver='warn',\n",
       "          tol=0.0001, verbose=0, warm_start=False))]),\n",
       "       fit_params=None, iid='warn', n_jobs=None,\n",
       "       param_grid={'cvec__stop_words': [None], 'cvec__max_features': [5000, 10000], 'cvec__ngram_range': [(1, 2)], 'logreg__penalty': ['l1'], 'logreg__C': array([1.e+01, 1.e+03, 1.e+05]), 'logreg__n_jobs': [-2]},\n",
       "       pre_dispatch='2*n_jobs', refit=True, return_train_score='warn',\n",
       "       scoring=None, verbose=0)"
      ]
     },
     "execution_count": 22,
     "metadata": {},
     "output_type": "execute_result"
    }
   ],
   "source": [
    "# Tune GridSearchCV\n",
    "pipe_params = {\n",
    "    'cvec__stop_words': [None],             \n",
    "    'cvec__max_features': [5000, 10000],                      \n",
    "    'cvec__ngram_range': [(1,2)],\n",
    "    'logreg__penalty':['l1'],\n",
    "    'logreg__C' : np.logspace(1, 5, 3), \n",
    "    'logreg__n_jobs' : [-2]\n",
    "}\n",
    "\n",
    "gs = GridSearchCV(pipe, param_grid = pipe_params, cv=3)\n",
    "gs.fit(X_train, y_train)"
   ]
  },
  {
   "cell_type": "markdown",
   "metadata": {},
   "source": [
    "### Scores"
   ]
  },
  {
   "cell_type": "code",
   "execution_count": 23,
   "metadata": {},
   "outputs": [
    {
     "name": "stdout",
     "output_type": "stream",
     "text": [
      "0.9552826691380908\n"
     ]
    },
    {
     "data": {
      "text/plain": [
       "{'cvec__max_features': 10000,\n",
       " 'cvec__ngram_range': (1, 2),\n",
       " 'cvec__stop_words': None,\n",
       " 'logreg__C': 10.0,\n",
       " 'logreg__n_jobs': -2,\n",
       " 'logreg__penalty': 'l1'}"
      ]
     },
     "execution_count": 23,
     "metadata": {},
     "output_type": "execute_result"
    }
   ],
   "source": [
    "print(gs.best_score_)\n",
    "(gs.best_params_)"
   ]
  },
  {
   "cell_type": "code",
   "execution_count": 24,
   "metadata": {},
   "outputs": [
    {
     "name": "stdout",
     "output_type": "stream",
     "text": [
      "GridSearch train score: 0.9995366079703429\n",
      "GridSearch test score: 0.9583043780403058\n"
     ]
    }
   ],
   "source": [
    "print(f'GridSearch train score: {gs.score(X_train, y_train)}')\n",
    "print(f'GridSearch test score: {gs.score(X_test, y_test)}')"
   ]
  },
  {
   "cell_type": "code",
   "execution_count": 25,
   "metadata": {},
   "outputs": [
    {
     "name": "stdout",
     "output_type": "stream",
     "text": [
      "[0.9988415199258572, 0.9995366079703429]\n",
      "[0.9589993050729674, 0.9583043780403058]\n"
     ]
    }
   ],
   "source": [
    "#Record scores \n",
    "record_scores(train_scores, gs.score(X_train, y_train))\n",
    "record_scores(test_scores, gs.score(X_test, y_test))\n",
    "\n",
    "print(train_scores)\n",
    "print(test_scores)"
   ]
  },
  {
   "cell_type": "code",
   "execution_count": 26,
   "metadata": {},
   "outputs": [
    {
     "data": {
      "text/html": [
       "<div>\n",
       "<style scoped>\n",
       "    .dataframe tbody tr th:only-of-type {\n",
       "        vertical-align: middle;\n",
       "    }\n",
       "\n",
       "    .dataframe tbody tr th {\n",
       "        vertical-align: top;\n",
       "    }\n",
       "\n",
       "    .dataframe thead th {\n",
       "        text-align: right;\n",
       "    }\n",
       "</style>\n",
       "<table border=\"1\" class=\"dataframe\">\n",
       "  <thead>\n",
       "    <tr style=\"text-align: right;\">\n",
       "      <th></th>\n",
       "      <th>mean_fit_time</th>\n",
       "      <th>std_fit_time</th>\n",
       "      <th>mean_score_time</th>\n",
       "      <th>std_score_time</th>\n",
       "      <th>param_cvec__max_features</th>\n",
       "      <th>param_cvec__ngram_range</th>\n",
       "      <th>param_cvec__stop_words</th>\n",
       "      <th>param_logreg__C</th>\n",
       "      <th>param_logreg__n_jobs</th>\n",
       "      <th>param_logreg__penalty</th>\n",
       "      <th>params</th>\n",
       "      <th>split0_test_score</th>\n",
       "      <th>split1_test_score</th>\n",
       "      <th>split2_test_score</th>\n",
       "      <th>mean_test_score</th>\n",
       "      <th>std_test_score</th>\n",
       "      <th>rank_test_score</th>\n",
       "      <th>split0_train_score</th>\n",
       "      <th>split1_train_score</th>\n",
       "      <th>split2_train_score</th>\n",
       "      <th>mean_train_score</th>\n",
       "      <th>std_train_score</th>\n",
       "    </tr>\n",
       "  </thead>\n",
       "  <tbody>\n",
       "    <tr>\n",
       "      <th>3</th>\n",
       "      <td>0.534198</td>\n",
       "      <td>0.007405</td>\n",
       "      <td>0.118027</td>\n",
       "      <td>0.000913</td>\n",
       "      <td>10000</td>\n",
       "      <td>(1, 2)</td>\n",
       "      <td>None</td>\n",
       "      <td>10</td>\n",
       "      <td>-2</td>\n",
       "      <td>l1</td>\n",
       "      <td>{'cvec__max_features': 10000, 'cvec__ngram_ran...</td>\n",
       "      <td>0.956220</td>\n",
       "      <td>0.947186</td>\n",
       "      <td>0.962448</td>\n",
       "      <td>0.955283</td>\n",
       "      <td>0.006266</td>\n",
       "      <td>1</td>\n",
       "      <td>1.0</td>\n",
       "      <td>0.999305</td>\n",
       "      <td>0.999305</td>\n",
       "      <td>0.999537</td>\n",
       "      <td>0.000328</td>\n",
       "    </tr>\n",
       "    <tr>\n",
       "      <th>0</th>\n",
       "      <td>0.597490</td>\n",
       "      <td>0.016284</td>\n",
       "      <td>0.128673</td>\n",
       "      <td>0.004720</td>\n",
       "      <td>5000</td>\n",
       "      <td>(1, 2)</td>\n",
       "      <td>None</td>\n",
       "      <td>10</td>\n",
       "      <td>-2</td>\n",
       "      <td>l1</td>\n",
       "      <td>{'cvec__max_features': 5000, 'cvec__ngram_rang...</td>\n",
       "      <td>0.954135</td>\n",
       "      <td>0.944406</td>\n",
       "      <td>0.963143</td>\n",
       "      <td>0.953892</td>\n",
       "      <td>0.007651</td>\n",
       "      <td>2</td>\n",
       "      <td>1.0</td>\n",
       "      <td>0.999305</td>\n",
       "      <td>0.999305</td>\n",
       "      <td>0.999537</td>\n",
       "      <td>0.000328</td>\n",
       "    </tr>\n",
       "    <tr>\n",
       "      <th>4</th>\n",
       "      <td>0.524912</td>\n",
       "      <td>0.008078</td>\n",
       "      <td>0.115552</td>\n",
       "      <td>0.000715</td>\n",
       "      <td>10000</td>\n",
       "      <td>(1, 2)</td>\n",
       "      <td>None</td>\n",
       "      <td>1000</td>\n",
       "      <td>-2</td>\n",
       "      <td>l1</td>\n",
       "      <td>{'cvec__max_features': 10000, 'cvec__ngram_ran...</td>\n",
       "      <td>0.944406</td>\n",
       "      <td>0.951355</td>\n",
       "      <td>0.960362</td>\n",
       "      <td>0.952039</td>\n",
       "      <td>0.006531</td>\n",
       "      <td>3</td>\n",
       "      <td>1.0</td>\n",
       "      <td>0.999652</td>\n",
       "      <td>0.999653</td>\n",
       "      <td>0.999768</td>\n",
       "      <td>0.000164</td>\n",
       "    </tr>\n",
       "    <tr>\n",
       "      <th>1</th>\n",
       "      <td>0.606344</td>\n",
       "      <td>0.008967</td>\n",
       "      <td>0.134777</td>\n",
       "      <td>0.021585</td>\n",
       "      <td>5000</td>\n",
       "      <td>(1, 2)</td>\n",
       "      <td>None</td>\n",
       "      <td>1000</td>\n",
       "      <td>-2</td>\n",
       "      <td>l1</td>\n",
       "      <td>{'cvec__max_features': 5000, 'cvec__ngram_rang...</td>\n",
       "      <td>0.948575</td>\n",
       "      <td>0.940931</td>\n",
       "      <td>0.959666</td>\n",
       "      <td>0.949722</td>\n",
       "      <td>0.007691</td>\n",
       "      <td>4</td>\n",
       "      <td>1.0</td>\n",
       "      <td>0.999652</td>\n",
       "      <td>0.999653</td>\n",
       "      <td>0.999768</td>\n",
       "      <td>0.000164</td>\n",
       "    </tr>\n",
       "    <tr>\n",
       "      <th>2</th>\n",
       "      <td>0.539356</td>\n",
       "      <td>0.018920</td>\n",
       "      <td>0.114834</td>\n",
       "      <td>0.004573</td>\n",
       "      <td>5000</td>\n",
       "      <td>(1, 2)</td>\n",
       "      <td>None</td>\n",
       "      <td>100000</td>\n",
       "      <td>-2</td>\n",
       "      <td>l1</td>\n",
       "      <td>{'cvec__max_features': 5000, 'cvec__ngram_rang...</td>\n",
       "      <td>0.909659</td>\n",
       "      <td>0.909659</td>\n",
       "      <td>0.913074</td>\n",
       "      <td>0.910797</td>\n",
       "      <td>0.001609</td>\n",
       "      <td>5</td>\n",
       "      <td>1.0</td>\n",
       "      <td>0.999652</td>\n",
       "      <td>0.999653</td>\n",
       "      <td>0.999768</td>\n",
       "      <td>0.000164</td>\n",
       "    </tr>\n",
       "  </tbody>\n",
       "</table>\n",
       "</div>"
      ],
      "text/plain": [
       "   mean_fit_time  std_fit_time  mean_score_time  std_score_time  \\\n",
       "3       0.534198      0.007405         0.118027        0.000913   \n",
       "0       0.597490      0.016284         0.128673        0.004720   \n",
       "4       0.524912      0.008078         0.115552        0.000715   \n",
       "1       0.606344      0.008967         0.134777        0.021585   \n",
       "2       0.539356      0.018920         0.114834        0.004573   \n",
       "\n",
       "  param_cvec__max_features param_cvec__ngram_range param_cvec__stop_words  \\\n",
       "3                    10000                  (1, 2)                   None   \n",
       "0                     5000                  (1, 2)                   None   \n",
       "4                    10000                  (1, 2)                   None   \n",
       "1                     5000                  (1, 2)                   None   \n",
       "2                     5000                  (1, 2)                   None   \n",
       "\n",
       "  param_logreg__C param_logreg__n_jobs param_logreg__penalty  \\\n",
       "3              10                   -2                    l1   \n",
       "0              10                   -2                    l1   \n",
       "4            1000                   -2                    l1   \n",
       "1            1000                   -2                    l1   \n",
       "2          100000                   -2                    l1   \n",
       "\n",
       "                                              params  split0_test_score  \\\n",
       "3  {'cvec__max_features': 10000, 'cvec__ngram_ran...           0.956220   \n",
       "0  {'cvec__max_features': 5000, 'cvec__ngram_rang...           0.954135   \n",
       "4  {'cvec__max_features': 10000, 'cvec__ngram_ran...           0.944406   \n",
       "1  {'cvec__max_features': 5000, 'cvec__ngram_rang...           0.948575   \n",
       "2  {'cvec__max_features': 5000, 'cvec__ngram_rang...           0.909659   \n",
       "\n",
       "   split1_test_score  split2_test_score  mean_test_score  std_test_score  \\\n",
       "3           0.947186           0.962448         0.955283        0.006266   \n",
       "0           0.944406           0.963143         0.953892        0.007651   \n",
       "4           0.951355           0.960362         0.952039        0.006531   \n",
       "1           0.940931           0.959666         0.949722        0.007691   \n",
       "2           0.909659           0.913074         0.910797        0.001609   \n",
       "\n",
       "   rank_test_score  split0_train_score  split1_train_score  \\\n",
       "3                1                 1.0            0.999305   \n",
       "0                2                 1.0            0.999305   \n",
       "4                3                 1.0            0.999652   \n",
       "1                4                 1.0            0.999652   \n",
       "2                5                 1.0            0.999652   \n",
       "\n",
       "   split2_train_score  mean_train_score  std_train_score  \n",
       "3            0.999305          0.999537         0.000328  \n",
       "0            0.999305          0.999537         0.000328  \n",
       "4            0.999653          0.999768         0.000164  \n",
       "1            0.999653          0.999768         0.000164  \n",
       "2            0.999653          0.999768         0.000164  "
      ]
     },
     "execution_count": 26,
     "metadata": {},
     "output_type": "execute_result"
    }
   ],
   "source": [
    "#Able to see all the results in a dataframe \n",
    "pd.DataFrame(gs.cv_results_).sort_values(by='rank_test_score').head()"
   ]
  },
  {
   "cell_type": "markdown",
   "metadata": {},
   "source": [
    "# Try with TFIDF"
   ]
  },
  {
   "cell_type": "code",
   "execution_count": 27,
   "metadata": {},
   "outputs": [
    {
     "data": {
      "text/plain": [
       "Pipeline(memory=None,\n",
       "     steps=[('tfidf', TfidfVectorizer(analyzer='word', binary=False, decode_error='strict',\n",
       "        dtype=<class 'numpy.float64'>, encoding='utf-8', input='content',\n",
       "        lowercase=True, max_df=1.0, max_features=None, min_df=1,\n",
       "        ngram_range=(1, 1), norm='l2', preprocessor=None, smooth_idf=True,...penalty='l2', random_state=None, solver='warn',\n",
       "          tol=0.0001, verbose=0, warm_start=False))])"
      ]
     },
     "execution_count": 27,
     "metadata": {},
     "output_type": "execute_result"
    }
   ],
   "source": [
    "pipe_t = Pipeline([\n",
    "    ('tfidf', TfidfVectorizer()), \n",
    "    ('logreg', LogisticRegression())\n",
    "])\n",
    "\n",
    "pipe_t"
   ]
  },
  {
   "cell_type": "code",
   "execution_count": 29,
   "metadata": {},
   "outputs": [
    {
     "data": {
      "text/plain": [
       "GridSearchCV(cv=3, error_score='raise-deprecating',\n",
       "       estimator=Pipeline(memory=None,\n",
       "     steps=[('tfidf', TfidfVectorizer(analyzer='word', binary=False, decode_error='strict',\n",
       "        dtype=<class 'numpy.float64'>, encoding='utf-8', input='content',\n",
       "        lowercase=True, max_df=1.0, max_features=None, min_df=1,\n",
       "        ngram_range=(1, 1), norm='l2', preprocessor=None, smooth_idf=True,...penalty='l2', random_state=None, solver='warn',\n",
       "          tol=0.0001, verbose=0, warm_start=False))]),\n",
       "       fit_params=None, iid='warn', n_jobs=None,\n",
       "       param_grid={'tfidf__stop_words': [None], 'tfidf__max_features': [15000, 20000], 'tfidf__ngram_range': [(1, 1), (1, 2)], 'logreg__penalty': ['l2'], 'logreg__C': array([1.e+01, 1.e+03, 1.e+05]), 'logreg__n_jobs': [-2]},\n",
       "       pre_dispatch='2*n_jobs', refit=True, return_train_score='warn',\n",
       "       scoring=None, verbose=0)"
      ]
     },
     "execution_count": 29,
     "metadata": {},
     "output_type": "execute_result"
    }
   ],
   "source": [
    "#Change to TFIDF params \n",
    "#how to tune max_features \n",
    "\n",
    "# Tune GridSearchCV\n",
    "pipe_params_t = {\n",
    "    'tfidf__stop_words': [None],              \n",
    "    'tfidf__max_features': [15_000, 20_000],                 \n",
    "    'tfidf__ngram_range': [(1,1), (1,2)],\n",
    "    'logreg__penalty':['l2'],\n",
    "    'logreg__C' : np.logspace(1, 5, 3), \n",
    "    'logreg__n_jobs' : [-2]\n",
    "}\n",
    "\n",
    "gs_t = GridSearchCV(pipe_t, param_grid = pipe_params_t, cv=3)\n",
    "gs_t.fit(X_train, y_train)"
   ]
  },
  {
   "cell_type": "code",
   "execution_count": 30,
   "metadata": {},
   "outputs": [
    {
     "name": "stdout",
     "output_type": "stream",
     "text": [
      "0.9647822057460612\n"
     ]
    },
    {
     "data": {
      "text/plain": [
       "{'logreg__C': 10.0,\n",
       " 'logreg__n_jobs': -2,\n",
       " 'logreg__penalty': 'l2',\n",
       " 'tfidf__max_features': 15000,\n",
       " 'tfidf__ngram_range': (1, 2),\n",
       " 'tfidf__stop_words': None}"
      ]
     },
     "execution_count": 30,
     "metadata": {},
     "output_type": "execute_result"
    }
   ],
   "source": [
    "print(gs_t.best_score_)\n",
    "(gs_t.best_params_)"
   ]
  },
  {
   "cell_type": "code",
   "execution_count": 31,
   "metadata": {},
   "outputs": [
    {
     "name": "stdout",
     "output_type": "stream",
     "text": [
      "GridSearch train score: 0.9993049119555144\n",
      "GridSearch test score: 0.9638637943015983\n"
     ]
    }
   ],
   "source": [
    "print(f'GridSearch train score: {gs_t.score(X_train, y_train)}')\n",
    "print(f'GridSearch test score: {gs_t.score(X_test, y_test)}')"
   ]
  },
  {
   "cell_type": "code",
   "execution_count": 32,
   "metadata": {},
   "outputs": [
    {
     "name": "stdout",
     "output_type": "stream",
     "text": [
      "[0.9988415199258572, 0.9995366079703429, 0.9993049119555144]\n",
      "[0.9589993050729674, 0.9583043780403058, 0.9638637943015983]\n"
     ]
    }
   ],
   "source": [
    "#Record scores \n",
    "record_scores(train_scores, gs_t.score(X_train, y_train))\n",
    "record_scores(test_scores, gs_t.score(X_test, y_test))\n",
    "\n",
    "print(train_scores)\n",
    "print(test_scores)"
   ]
  },
  {
   "cell_type": "markdown",
   "metadata": {},
   "source": [
    "### Bayes with Cvec"
   ]
  },
  {
   "cell_type": "code",
   "execution_count": 33,
   "metadata": {},
   "outputs": [
    {
     "data": {
      "text/plain": [
       "Pipeline(memory=None,\n",
       "     steps=[('cvec', CountVectorizer(analyzer='word', binary=False, decode_error='strict',\n",
       "        dtype=<class 'numpy.int64'>, encoding='utf-8', input='content',\n",
       "        lowercase=True, max_df=1.0, max_features=None, min_df=1,\n",
       "        ngram_range=(1, 1), preprocessor=None, stop_words=None,\n",
       "        strip_accents=None, token_pattern='(?u)\\\\b\\\\w\\\\w+\\\\b',\n",
       "        tokenizer=None, vocabulary=None)), ('nb', MultinomialNB(alpha=1.0, class_prior=None, fit_prior=True))])"
      ]
     },
     "execution_count": 33,
     "metadata": {},
     "output_type": "execute_result"
    }
   ],
   "source": [
    "pipe = Pipeline([\n",
    "    ('cvec', CountVectorizer()), \n",
    "    ('nb', MultinomialNB())\n",
    "])\n",
    "\n",
    "pipe"
   ]
  },
  {
   "cell_type": "code",
   "execution_count": 34,
   "metadata": {},
   "outputs": [
    {
     "data": {
      "text/plain": [
       "GridSearchCV(cv=3, error_score='raise-deprecating',\n",
       "       estimator=Pipeline(memory=None,\n",
       "     steps=[('cvec', CountVectorizer(analyzer='word', binary=False, decode_error='strict',\n",
       "        dtype=<class 'numpy.int64'>, encoding='utf-8', input='content',\n",
       "        lowercase=True, max_df=1.0, max_features=None, min_df=1,\n",
       "        ngram_range=(1, 1), preprocessor=None, stop_words=None,\n",
       "        strip_accents=None, token_pattern='(?u)\\\\b\\\\w\\\\w+\\\\b',\n",
       "        tokenizer=None, vocabulary=None)), ('nb', MultinomialNB(alpha=1.0, class_prior=None, fit_prior=True))]),\n",
       "       fit_params=None, iid='warn', n_jobs=None,\n",
       "       param_grid={'cvec__stop_words': [None, 'english'], 'cvec__max_features': [5000, 10000], 'cvec__ngram_range': [(1, 1), (1, 2)], 'nb__alpha': [0.1, 0.5, 1]},\n",
       "       pre_dispatch='2*n_jobs', refit=True, return_train_score='warn',\n",
       "       scoring=None, verbose=0)"
      ]
     },
     "execution_count": 34,
     "metadata": {},
     "output_type": "execute_result"
    }
   ],
   "source": [
    "# Tune GridSearchCV\n",
    "pipe_params = {\n",
    "    'cvec__stop_words': [None, 'english'],             \n",
    "    'cvec__max_features': [5000, 10_000],                      \n",
    "    'cvec__ngram_range': [(1,1), (1,2)],\n",
    "    'nb__alpha': [0.1, 0.5, 1],\n",
    "}\n",
    "\n",
    "#Fit model \n",
    "gs = GridSearchCV(pipe, param_grid = pipe_params, cv=3)\n",
    "gs.fit(X_train, y_train)"
   ]
  },
  {
   "cell_type": "code",
   "execution_count": 35,
   "metadata": {},
   "outputs": [
    {
     "name": "stdout",
     "output_type": "stream",
     "text": [
      "0.9610750695088045\n"
     ]
    },
    {
     "data": {
      "text/plain": [
       "{'cvec__max_features': 10000,\n",
       " 'cvec__ngram_range': (1, 2),\n",
       " 'cvec__stop_words': None,\n",
       " 'nb__alpha': 1}"
      ]
     },
     "execution_count": 35,
     "metadata": {},
     "output_type": "execute_result"
    }
   ],
   "source": [
    "print(gs.best_score_)\n",
    "(gs.best_params_)"
   ]
  },
  {
   "cell_type": "code",
   "execution_count": 36,
   "metadata": {},
   "outputs": [
    {
     "name": "stdout",
     "output_type": "stream",
     "text": [
      "GridSearch train score: 0.9844763670064874\n",
      "GridSearch test score: 0.9603891591382905\n"
     ]
    }
   ],
   "source": [
    "print(f'GridSearch train score: {gs.score(X_train, y_train)}')\n",
    "print(f'GridSearch test score: {gs.score(X_test, y_test)}')"
   ]
  },
  {
   "cell_type": "code",
   "execution_count": 37,
   "metadata": {},
   "outputs": [
    {
     "name": "stdout",
     "output_type": "stream",
     "text": [
      "[0.9988415199258572, 0.9995366079703429, 0.9993049119555144, 0.9844763670064874]\n",
      "[0.9589993050729674, 0.9583043780403058, 0.9638637943015983, 0.9603891591382905]\n"
     ]
    }
   ],
   "source": [
    "#Record scores \n",
    "record_scores(train_scores, gs.score(X_train, y_train))\n",
    "record_scores(test_scores, gs.score(X_test, y_test))\n",
    "\n",
    "print(train_scores)\n",
    "print(test_scores)"
   ]
  },
  {
   "cell_type": "markdown",
   "metadata": {},
   "source": [
    "### Bayes with TFIDF"
   ]
  },
  {
   "cell_type": "code",
   "execution_count": 38,
   "metadata": {},
   "outputs": [
    {
     "data": {
      "text/plain": [
       "Pipeline(memory=None,\n",
       "     steps=[('tfidf', TfidfVectorizer(analyzer='word', binary=False, decode_error='strict',\n",
       "        dtype=<class 'numpy.float64'>, encoding='utf-8', input='content',\n",
       "        lowercase=True, max_df=1.0, max_features=None, min_df=1,\n",
       "        ngram_range=(1, 1), norm='l2', preprocessor=None, smooth_idf=True,...True,\n",
       "        vocabulary=None)), ('nb', MultinomialNB(alpha=1.0, class_prior=None, fit_prior=True))])"
      ]
     },
     "execution_count": 38,
     "metadata": {},
     "output_type": "execute_result"
    }
   ],
   "source": [
    "pipe = Pipeline([\n",
    "    ('tfidf', TfidfVectorizer()), \n",
    "    ('nb', MultinomialNB())\n",
    "])\n",
    "\n",
    "pipe"
   ]
  },
  {
   "cell_type": "code",
   "execution_count": 39,
   "metadata": {},
   "outputs": [
    {
     "data": {
      "text/plain": [
       "GridSearchCV(cv=3, error_score='raise-deprecating',\n",
       "       estimator=Pipeline(memory=None,\n",
       "     steps=[('tfidf', TfidfVectorizer(analyzer='word', binary=False, decode_error='strict',\n",
       "        dtype=<class 'numpy.float64'>, encoding='utf-8', input='content',\n",
       "        lowercase=True, max_df=1.0, max_features=None, min_df=1,\n",
       "        ngram_range=(1, 1), norm='l2', preprocessor=None, smooth_idf=True,...True,\n",
       "        vocabulary=None)), ('nb', MultinomialNB(alpha=1.0, class_prior=None, fit_prior=True))]),\n",
       "       fit_params=None, iid='warn', n_jobs=None,\n",
       "       param_grid={'tfidf__stop_words': [None], 'tfidf__max_features': [20000], 'tfidf__ngram_range': [(1, 4), (1, 5)], 'nb__alpha': [3, 4]},\n",
       "       pre_dispatch='2*n_jobs', refit=True, return_train_score='warn',\n",
       "       scoring=None, verbose=0)"
      ]
     },
     "execution_count": 39,
     "metadata": {},
     "output_type": "execute_result"
    }
   ],
   "source": [
    "pipe_params = {\n",
    "    'tfidf__stop_words': [None],              \n",
    "    'tfidf__max_features': [20_000],                 \n",
    "    'tfidf__ngram_range': [(1,4), (1,5)],\n",
    "    'nb__alpha': [3,4],\n",
    "}\n",
    "\n",
    "gs = GridSearchCV(pipe, param_grid = pipe_params, cv=3)\n",
    "gs.fit(X_train, y_train)"
   ]
  },
  {
   "cell_type": "code",
   "execution_count": 40,
   "metadata": {},
   "outputs": [
    {
     "name": "stdout",
     "output_type": "stream",
     "text": [
      "0.9615384615384616\n"
     ]
    },
    {
     "data": {
      "text/plain": [
       "{'nb__alpha': 3,\n",
       " 'tfidf__max_features': 20000,\n",
       " 'tfidf__ngram_range': (1, 4),\n",
       " 'tfidf__stop_words': None}"
      ]
     },
     "execution_count": 40,
     "metadata": {},
     "output_type": "execute_result"
    }
   ],
   "source": [
    "print(gs.best_score_)\n",
    "(gs.best_params_)"
   ]
  },
  {
   "cell_type": "code",
   "execution_count": 41,
   "metadata": {},
   "outputs": [
    {
     "name": "stdout",
     "output_type": "stream",
     "text": [
      "GridSearch train score: 0.9833178869323448\n",
      "GridSearch test score: 0.9589993050729674\n"
     ]
    }
   ],
   "source": [
    "print(f'GridSearch train score: {gs.score(X_train, y_train)}')\n",
    "print(f'GridSearch test score: {gs.score(X_test, y_test)}')"
   ]
  },
  {
   "cell_type": "code",
   "execution_count": 42,
   "metadata": {},
   "outputs": [
    {
     "name": "stdout",
     "output_type": "stream",
     "text": [
      "[0.9988415199258572, 0.9995366079703429, 0.9993049119555144, 0.9844763670064874, 0.9833178869323448]\n",
      "[0.9589993050729674, 0.9583043780403058, 0.9638637943015983, 0.9603891591382905, 0.9589993050729674]\n"
     ]
    }
   ],
   "source": [
    "#Record scores \n",
    "record_scores(train_scores, gs.score(X_train, y_train))\n",
    "record_scores(test_scores, gs.score(X_test, y_test))\n",
    "\n",
    "print(train_scores)\n",
    "print(test_scores)"
   ]
  },
  {
   "cell_type": "markdown",
   "metadata": {},
   "source": [
    "### Interpret Scores "
   ]
  },
  {
   "cell_type": "code",
   "execution_count": 43,
   "metadata": {},
   "outputs": [],
   "source": [
    "import seaborn as sns\n",
    "import matplotlib.pyplot as plt"
   ]
  },
  {
   "cell_type": "code",
   "execution_count": 44,
   "metadata": {
    "scrolled": true
   },
   "outputs": [
    {
     "data": {
      "text/html": [
       "<div>\n",
       "<style scoped>\n",
       "    .dataframe tbody tr th:only-of-type {\n",
       "        vertical-align: middle;\n",
       "    }\n",
       "\n",
       "    .dataframe tbody tr th {\n",
       "        vertical-align: top;\n",
       "    }\n",
       "\n",
       "    .dataframe thead th {\n",
       "        text-align: right;\n",
       "    }\n",
       "</style>\n",
       "<table border=\"1\" class=\"dataframe\">\n",
       "  <thead>\n",
       "    <tr style=\"text-align: right;\">\n",
       "      <th></th>\n",
       "      <th>Train</th>\n",
       "      <th>Test</th>\n",
       "      <th>score_diff</th>\n",
       "      <th>model_name</th>\n",
       "    </tr>\n",
       "  </thead>\n",
       "  <tbody>\n",
       "    <tr>\n",
       "      <th>0</th>\n",
       "      <td>0.998842</td>\n",
       "      <td>0.958999</td>\n",
       "      <td>0.039842</td>\n",
       "      <td>Cvec-Logreg</td>\n",
       "    </tr>\n",
       "    <tr>\n",
       "      <th>1</th>\n",
       "      <td>0.999537</td>\n",
       "      <td>0.958304</td>\n",
       "      <td>0.041232</td>\n",
       "      <td>Cvec-Logreg</td>\n",
       "    </tr>\n",
       "    <tr>\n",
       "      <th>2</th>\n",
       "      <td>0.999305</td>\n",
       "      <td>0.963864</td>\n",
       "      <td>0.035441</td>\n",
       "      <td>Tfidf-Logreg</td>\n",
       "    </tr>\n",
       "    <tr>\n",
       "      <th>3</th>\n",
       "      <td>0.984476</td>\n",
       "      <td>0.960389</td>\n",
       "      <td>0.024087</td>\n",
       "      <td>Cvec-NB</td>\n",
       "    </tr>\n",
       "    <tr>\n",
       "      <th>4</th>\n",
       "      <td>0.983318</td>\n",
       "      <td>0.958999</td>\n",
       "      <td>0.024319</td>\n",
       "      <td>Tfidf-NB</td>\n",
       "    </tr>\n",
       "  </tbody>\n",
       "</table>\n",
       "</div>"
      ],
      "text/plain": [
       "      Train      Test  score_diff    model_name\n",
       "0  0.998842  0.958999    0.039842   Cvec-Logreg\n",
       "1  0.999537  0.958304    0.041232   Cvec-Logreg\n",
       "2  0.999305  0.963864    0.035441  Tfidf-Logreg\n",
       "3  0.984476  0.960389    0.024087       Cvec-NB\n",
       "4  0.983318  0.958999    0.024319      Tfidf-NB"
      ]
     },
     "execution_count": 44,
     "metadata": {},
     "output_type": "execute_result"
    }
   ],
   "source": [
    "#Compare the scores in a Data Frame\n",
    "\n",
    "scores_df = pd.DataFrame({'Train': train_scores, \"Test\": test_scores})\n",
    "\n",
    "scores_df['score_diff'] = scores_df['Train'] - scores_df['Test']\n",
    "scores_df['model_name'] = ['Cvec-Logreg','Cvec-Logreg','Tfidf-Logreg','Cvec-NB','Tfidf-NB']\n",
    "\n",
    "scores_df\n",
    "# scores_df.map{0:'Cvec-Logreg',1:'Cvec-Logreg', 2:'Tfidf-Logreg', 3:'Cvec-NB', 4:'Tfidf-NB'})"
   ]
  },
  {
   "cell_type": "code",
   "execution_count": 45,
   "metadata": {},
   "outputs": [
    {
     "data": {
      "image/png": "[encoded data removed]",
      "text/plain": [
       "<Figure size 432x288 with 1 Axes>"
      ]
     },
     "metadata": {
      "needs_background": "light"
     },
     "output_type": "display_data"
    }
   ],
   "source": [
    "#Plot the score differences so it's easier to see \n",
    "\n",
    "sns.barplot(x='score_diff', y ='model_name', data = scores_df);"
   ]
  },
  {
   "cell_type": "code",
   "execution_count": 46,
   "metadata": {
    "scrolled": false
   },
   "outputs": [
    {
     "data": {
      "image/png": "[encoded data removed]",
      "text/plain": [
       "<Figure size 720x504 with 1 Axes>"
      ]
     },
     "metadata": {
      "needs_background": "light"
     },
     "output_type": "display_data"
    }
   ],
   "source": [
    "#Plot the train and test scores \n",
    "\n",
    "plt.figure(figsize = (10, 7))\n",
    "sns.set_style(\"whitegrid\")\n",
    "sns.set_context(\"poster\", font_scale = .7)\n",
    "plt.title('How do the scores compare?', fontsize = 20)\n",
    "sns.scatterplot(x= 'Train', y= 'Test', hue = 'model_name', data =scores_df, s=100);"
   ]
  },
  {
   "cell_type": "markdown",
   "metadata": {},
   "source": [
    "### Final Model Choice:  Logistic Regression with TFIDF"
   ]
  },
  {
   "cell_type": "markdown",
   "metadata": {},
   "source": [
    "### Predictions "
   ]
  },
  {
   "cell_type": "code",
   "execution_count": 47,
   "metadata": {
    "scrolled": true
   },
   "outputs": [
    {
     "data": {
      "text/html": [
       "<div>\n",
       "<style scoped>\n",
       "    .dataframe tbody tr th:only-of-type {\n",
       "        vertical-align: middle;\n",
       "    }\n",
       "\n",
       "    .dataframe tbody tr th {\n",
       "        vertical-align: top;\n",
       "    }\n",
       "\n",
       "    .dataframe thead th {\n",
       "        text-align: right;\n",
       "    }\n",
       "</style>\n",
       "<table border=\"1\" class=\"dataframe\">\n",
       "  <thead>\n",
       "    <tr style=\"text-align: right;\">\n",
       "      <th></th>\n",
       "      <th>predicted</th>\n",
       "      <th>actual</th>\n",
       "      <th>text</th>\n",
       "    </tr>\n",
       "  </thead>\n",
       "  <tbody>\n",
       "    <tr>\n",
       "      <th>7713</th>\n",
       "      <td>1</td>\n",
       "      <td>0</td>\n",
       "      <td>different servers for accessing facebook www...</td>\n",
       "    </tr>\n",
       "    <tr>\n",
       "      <th>2143</th>\n",
       "      <td>0</td>\n",
       "      <td>1</td>\n",
       "      <td>inside and cant tell ifhow hard its raining ...</td>\n",
       "    </tr>\n",
       "    <tr>\n",
       "      <th>8110</th>\n",
       "      <td>1</td>\n",
       "      <td>0</td>\n",
       "      <td>furnished holiday let uk no</td>\n",
       "    </tr>\n",
       "    <tr>\n",
       "      <th>604</th>\n",
       "      <td>0</td>\n",
       "      <td>1</td>\n",
       "      <td>the point of a debate isnt to be right its t...</td>\n",
       "    </tr>\n",
       "    <tr>\n",
       "      <th>7300</th>\n",
       "      <td>1</td>\n",
       "      <td>0</td>\n",
       "      <td>would a specific amendment to the constitut...</td>\n",
       "    </tr>\n",
       "  </tbody>\n",
       "</table>\n",
       "</div>"
      ],
      "text/plain": [
       "      predicted  actual                                               text\n",
       "7713          1       0    different servers for accessing facebook www...\n",
       "2143          0       1    inside and cant tell ifhow hard its raining ...\n",
       "8110          1       0                      furnished holiday let uk no  \n",
       "604           0       1    the point of a debate isnt to be right its t...\n",
       "7300          1       0     would a specific amendment to the constitut..."
      ]
     },
     "execution_count": 47,
     "metadata": {},
     "output_type": "execute_result"
    }
   ],
   "source": [
    "#Predictions \n",
    "predictions = gs_t.predict(X_test)\n",
    "\n",
    "# Create DataFrame with column for predicted values\n",
    "results = pd.DataFrame({'predicted': predictions, \n",
    "                        'actual': y_test,\n",
    "                        'text': X_test})\n",
    "\n",
    "#Find the rows with incorrect predictions \n",
    "misclass = results[results['predicted'] != results['actual']]\n",
    "misclass.head()"
   ]
  },
  {
   "cell_type": "markdown",
   "metadata": {},
   "source": [
    "### Confusion Matrix "
   ]
  },
  {
   "cell_type": "code",
   "execution_count": 48,
   "metadata": {},
   "outputs": [],
   "source": [
    "from sklearn.metrics import confusion_matrix"
   ]
  },
  {
   "cell_type": "code",
   "execution_count": 49,
   "metadata": {
    "scrolled": true
   },
   "outputs": [
    {
     "data": {
      "text/plain": [
       "array([[730,  28],\n",
       "       [ 24, 657]])"
      ]
     },
     "execution_count": 49,
     "metadata": {},
     "output_type": "execute_result"
    }
   ],
   "source": [
    "confusion_matrix(y_test, \n",
    "                 predictions) \n",
    "\n",
    "#Here we can see that there are 52 misclassified predictions "
   ]
  },
  {
   "cell_type": "code",
   "execution_count": 50,
   "metadata": {},
   "outputs": [],
   "source": [
    "tn, fp, fn, tp = confusion_matrix(y_test, predictions).ravel()"
   ]
  },
  {
   "cell_type": "code",
   "execution_count": 51,
   "metadata": {},
   "outputs": [
    {
     "name": "stdout",
     "output_type": "stream",
     "text": [
      "True Negatives: 730\n",
      "False Positives: 28\n",
      "False Negatives: 24\n",
      "True Positives: 657\n"
     ]
    }
   ],
   "source": [
    "print(\"True Negatives: %s\" % tn)\n",
    "print(\"False Positives: %s\" % fp)\n",
    "print(\"False Negatives: %s\" % fn)\n",
    "print(\"True Positives: %s\" % tp)"
   ]
  },
  {
   "cell_type": "code",
   "execution_count": 52,
   "metadata": {},
   "outputs": [
    {
     "name": "stdout",
     "output_type": "stream",
     "text": [
      "Accuracy: 0.9639\n",
      "Sensitivity: 0.9648\n",
      "Specificity: 0.9631\n"
     ]
    }
   ],
   "source": [
    "#Calculate the Classification metrics \n",
    "\n",
    "accuracy = (tp+tn)/(tp+tn+fp+fn)\n",
    "sensitivity = tp/(tp+fn)\n",
    "specificity = tn/(tn+fp) \n",
    "\n",
    "print(f'Accuracy: {round(accuracy,4)}')\n",
    "print(f'Sensitivity: {round(sensitivity,4)}')\n",
    "print(f'Specificity: {round(specificity,4)}')"
   ]
  },
  {
   "cell_type": "markdown",
   "metadata": {},
   "source": [
    "### Probabilities of Coefficients "
   ]
  },
  {
   "cell_type": "code",
   "execution_count": 54,
   "metadata": {},
   "outputs": [
    {
     "data": {
      "text/plain": [
       "array([[0.77202624, 1.91093966, 0.93674295, ..., 2.71900483, 1.50499836,\n",
       "        1.13800814]])"
      ]
     },
     "execution_count": 54,
     "metadata": {},
     "output_type": "execute_result"
    }
   ],
   "source": [
    "data_coef = gs_t.best_estimator_.named_steps['logreg'].coef_\n",
    "np.exp(data_coef)"
   ]
  },
  {
   "cell_type": "code",
   "execution_count": 55,
   "metadata": {},
   "outputs": [],
   "source": [
    "#Got this function from stack overflow \n",
    "\n",
    "def get_top_n_words(corpus, n=None):                                            \n",
    "#     List the top n words in a vocabulary according to occurrence in a text corpus.\n",
    "    vec = CountVectorizer(stop_words='english').fit(corpus)\n",
    "    bag_of_words = vec.transform(corpus)\n",
    "    sum_words = bag_of_words.sum(axis=0) \n",
    "    words_freq = [(word, sum_words[0, idx]) for word, idx in     vec.vocabulary_.items()]\n",
    "    words_freq =sorted(words_freq, key = lambda x: x[1], reverse=True)\n",
    "    return words_freq[:n]"
   ]
  },
  {
   "cell_type": "code",
   "execution_count": 56,
   "metadata": {},
   "outputs": [],
   "source": [
    "#Apply the function to the data \n",
    "\n",
    "top_words = get_top_n_words(df['fulltext'], n=None)"
   ]
  },
  {
   "cell_type": "code",
   "execution_count": 57,
   "metadata": {
    "scrolled": true
   },
   "outputs": [],
   "source": [
    "#Make a df that only has LPT \n",
    "\n",
    "lpt = df[df['subreddit'] == 1]\n",
    "lpt = get_top_n_words(lpt['fulltext'])\n",
    "\n",
    "#Make a df that only has ELI5 \n",
    "\n",
    "eli5 = df[df['subreddit'] == 0]\n",
    "eli5 = get_top_n_words(eli5['fulltext'])"
   ]
  },
  {
   "cell_type": "code",
   "execution_count": 58,
   "metadata": {},
   "outputs": [],
   "source": [
    "lpt_df = pd.DataFrame(data = lpt, columns= ('words', 'count')).head(10)"
   ]
  },
  {
   "cell_type": "code",
   "execution_count": 59,
   "metadata": {},
   "outputs": [],
   "source": [
    "eli5_df = pd.DataFrame(data = eli5, columns= ('words', 'count')).head(10)"
   ]
  },
  {
   "cell_type": "code",
   "execution_count": 60,
   "metadata": {
    "scrolled": false
   },
   "outputs": [
    {
     "data": {
      "image/png": "[encoded data removed]",
      "text/plain": [
       "<Figure size 576x360 with 1 Axes>"
      ]
     },
     "metadata": {},
     "output_type": "display_data"
    }
   ],
   "source": [
    "plt.figure(figsize = (8, 5))\n",
    "sns.set_context(\"poster\", font_scale = .7)\n",
    "plt.title('Top words for LPT', fontsize = 20)\n",
    "sns.barplot(x='words', y ='count', data = lpt_df );"
   ]
  },
  {
   "cell_type": "code",
   "execution_count": 61,
   "metadata": {},
   "outputs": [
    {
     "data": {
      "image/png": "[encoded data removed]",
      "text/plain": [
       "<Figure size 576x360 with 1 Axes>"
      ]
     },
     "metadata": {},
     "output_type": "display_data"
    }
   ],
   "source": [
    "plt.figure(figsize = (8, 5))\n",
    "sns.set_context(\"poster\", font_scale = .7)\n",
    "plt.title('Top words for ELI5', fontsize = 20)\n",
    "sns.barplot(x='words', y ='count', data = eli5_df);"
   ]
  }
 ],
 "metadata": {
  "kernelspec": {
   "display_name": "DSI",
   "language": "python",
   "name": "dsi"
  },
  "language_info": {
   "codemirror_mode": {
    "name": "ipython",
    "version": 3
   },
   "file_extension": ".py",
   "mimetype": "text/x-python",
   "name": "python",
   "nbconvert_exporter": "python",
   "pygments_lexer": "ipython3",
   "version": "3.7.2"
  }
 },
 "nbformat": 4,
 "nbformat_minor": 2
}
