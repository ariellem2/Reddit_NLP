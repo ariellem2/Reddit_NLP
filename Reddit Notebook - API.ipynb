{
 "cells": [
  {
   "cell_type": "markdown",
   "metadata": {},
   "source": [
    "### Set up API Connection"
   ]
  },
  {
   "cell_type": "code",
   "execution_count": 1,
   "metadata": {},
   "outputs": [],
   "source": [
    "import pandas as pd \n",
    "import numpy as np \n",
    "import datetime as dt\n",
    "import time\n",
    "import requests \n",
    "import json "
   ]
  },
  {
   "cell_type": "code",
   "execution_count": 2,
   "metadata": {},
   "outputs": [
    {
     "data": {
      "text/plain": [
       "'https://api.pushshift.io/reddit/search/submission/?subreddit=lifeprotips&size=500'"
      ]
     },
     "execution_count": 2,
     "metadata": {},
     "output_type": "execute_result"
    }
   ],
   "source": [
    "#Got this code from Brian in class \n",
    "\n",
    "#Set it up this way so we can easily use them to build the next function \n",
    "\n",
    "kind = 'submission'\n",
    "subreddit = 'lifeprotips'\n",
    "size = 500 \n",
    "\n",
    "#URL - will return in JSON\n",
    "f'https://api.pushshift.io/reddit/search/{kind}/?subreddit={subreddit}&size={size}'"
   ]
  },
  {
   "cell_type": "code",
   "execution_count": 3,
   "metadata": {},
   "outputs": [],
   "source": [
    "field = ['selftext', 'title', 'domain', 'created_utc', 'num_comments', 'subreddit', 'is_self']"
   ]
  },
  {
   "cell_type": "markdown",
   "metadata": {},
   "source": [
    "### Webscraping "
   ]
  },
  {
   "cell_type": "code",
   "execution_count": 4,
   "metadata": {},
   "outputs": [],
   "source": [
    "#Got this code from Brian in class. I removed author. \n",
    "\n",
    "def query_pushshift (subreddit, kind = 'submission', skip=30, times=10, size=500,\n",
    "                     subfield= ['selftext', 'title', 'domain', 'created_utc',\n",
    "                                'num_comments', 'subreddit', 'is_self'],\n",
    "                     comfield = ['body', 'created_utc']):\n",
    "    \n",
    "    stem = f'https://api.pushshift.io/reddit/search/{kind}/?subreddit={subreddit}&size={size}'\n",
    "    \n",
    "    my_list = []\n",
    "    \n",
    "    for x in range(1, times):\n",
    "        \n",
    "        URL = f'{stem}&after={skip * x}d'\n",
    "        print(URL)\n",
    "        response = requests.get(URL)\n",
    "        assert response.status_code == 200       #if the boolean statment works them move on, but if not then send error code (instead of try and except)\n",
    "        mine = response.json()['data']\n",
    "        df = pd.DataFrame.from_dict(mine)        #creating a dataframe of all the data we created above \n",
    "        my_list.append(df)\n",
    "        time.sleep(2)\n",
    "        \n",
    "    full = pd.concat(my_list, sort=False)\n",
    "    \n",
    "    if kind == 'submission':\n",
    "        full = full[subfield]                    #so that we only see our subfields\n",
    "        full = full.drop_duplicates()            #drop duplicates\n",
    "        full = full.loc[full['is_self'] == True] #anytime is_self is false, there is no text. So its telling it to not take in anything where is_self is false. bc were doing NLP we want text so its pointless to ge the false ones \n",
    "        \n",
    "    def get_date(created):\n",
    "        return dt.date.fromtimestamp(created)\n",
    "    \n",
    "    _timestamp = full['created_utc'].apply(get_date)\n",
    "    \n",
    "    full['timestamp'] = _timestamp\n",
    "    \n",
    "    print(full.shape)\n",
    "    \n",
    "    return full \n",
    " "
   ]
  },
  {
   "cell_type": "code",
   "execution_count": 5,
   "metadata": {},
   "outputs": [
    {
     "name": "stdout",
     "output_type": "stream",
     "text": [
      "https://api.pushshift.io/reddit/search/submission/?subreddit=lifeprotips&size=500&after=30d\n",
      "https://api.pushshift.io/reddit/search/submission/?subreddit=lifeprotips&size=500&after=60d\n",
      "https://api.pushshift.io/reddit/search/submission/?subreddit=lifeprotips&size=500&after=90d\n",
      "https://api.pushshift.io/reddit/search/submission/?subreddit=lifeprotips&size=500&after=120d\n",
      "https://api.pushshift.io/reddit/search/submission/?subreddit=lifeprotips&size=500&after=150d\n",
      "https://api.pushshift.io/reddit/search/submission/?subreddit=lifeprotips&size=500&after=180d\n",
      "https://api.pushshift.io/reddit/search/submission/?subreddit=lifeprotips&size=500&after=210d\n",
      "https://api.pushshift.io/reddit/search/submission/?subreddit=lifeprotips&size=500&after=240d\n",
      "https://api.pushshift.io/reddit/search/submission/?subreddit=lifeprotips&size=500&after=270d\n",
      "(4474, 8)\n"
     ]
    }
   ],
   "source": [
    "lpt = query_pushshift('lifeprotips')"
   ]
  },
  {
   "cell_type": "code",
   "execution_count": 6,
   "metadata": {},
   "outputs": [
    {
     "name": "stdout",
     "output_type": "stream",
     "text": [
      "https://api.pushshift.io/reddit/search/submission/?subreddit=explainlikeimfive&size=500&after=30d\n",
      "https://api.pushshift.io/reddit/search/submission/?subreddit=explainlikeimfive&size=500&after=60d\n",
      "https://api.pushshift.io/reddit/search/submission/?subreddit=explainlikeimfive&size=500&after=90d\n",
      "https://api.pushshift.io/reddit/search/submission/?subreddit=explainlikeimfive&size=500&after=120d\n",
      "https://api.pushshift.io/reddit/search/submission/?subreddit=explainlikeimfive&size=500&after=150d\n",
      "https://api.pushshift.io/reddit/search/submission/?subreddit=explainlikeimfive&size=500&after=180d\n",
      "https://api.pushshift.io/reddit/search/submission/?subreddit=explainlikeimfive&size=500&after=210d\n",
      "https://api.pushshift.io/reddit/search/submission/?subreddit=explainlikeimfive&size=500&after=240d\n",
      "https://api.pushshift.io/reddit/search/submission/?subreddit=explainlikeimfive&size=500&after=270d\n",
      "(4500, 8)\n"
     ]
    }
   ],
   "source": [
    "eli5 = query_pushshift('explainlikeimfive')"
   ]
  },
  {
   "cell_type": "code",
   "execution_count": 7,
   "metadata": {},
   "outputs": [
    {
     "data": {
      "text/html": [
       "<div>\n",
       "<style scoped>\n",
       "    .dataframe tbody tr th:only-of-type {\n",
       "        vertical-align: middle;\n",
       "    }\n",
       "\n",
       "    .dataframe tbody tr th {\n",
       "        vertical-align: top;\n",
       "    }\n",
       "\n",
       "    .dataframe thead th {\n",
       "        text-align: right;\n",
       "    }\n",
       "</style>\n",
       "<table border=\"1\" class=\"dataframe\">\n",
       "  <thead>\n",
       "    <tr style=\"text-align: right;\">\n",
       "      <th></th>\n",
       "      <th>selftext</th>\n",
       "      <th>title</th>\n",
       "      <th>domain</th>\n",
       "      <th>created_utc</th>\n",
       "      <th>num_comments</th>\n",
       "      <th>subreddit</th>\n",
       "      <th>is_self</th>\n",
       "      <th>timestamp</th>\n",
       "    </tr>\n",
       "  </thead>\n",
       "  <tbody>\n",
       "    <tr>\n",
       "      <th>0</th>\n",
       "      <td></td>\n",
       "      <td>LPT: Put a sneaker on a turkey leg and let you...</td>\n",
       "      <td>self.LifeProTips</td>\n",
       "      <td>1552170236</td>\n",
       "      <td>1</td>\n",
       "      <td>LifeProTips</td>\n",
       "      <td>True</td>\n",
       "      <td>2019-03-09</td>\n",
       "    </tr>\n",
       "    <tr>\n",
       "      <th>1</th>\n",
       "      <td></td>\n",
       "      <td>LPT: Let other people explain concepts to you,...</td>\n",
       "      <td>self.LifeProTips</td>\n",
       "      <td>1552170252</td>\n",
       "      <td>112</td>\n",
       "      <td>LifeProTips</td>\n",
       "      <td>True</td>\n",
       "      <td>2019-03-09</td>\n",
       "    </tr>\n",
       "    <tr>\n",
       "      <th>2</th>\n",
       "      <td>[removed]</td>\n",
       "      <td>Not sure where to ask this question. But I had...</td>\n",
       "      <td>self.LifeProTips</td>\n",
       "      <td>1552170315</td>\n",
       "      <td>2</td>\n",
       "      <td>LifeProTips</td>\n",
       "      <td>True</td>\n",
       "      <td>2019-03-09</td>\n",
       "    </tr>\n",
       "    <tr>\n",
       "      <th>3</th>\n",
       "      <td>[removed]</td>\n",
       "      <td>LPT: To peel a garlic clove, cut it lengthwise...</td>\n",
       "      <td>self.LifeProTips</td>\n",
       "      <td>1552170365</td>\n",
       "      <td>1</td>\n",
       "      <td>LifeProTips</td>\n",
       "      <td>True</td>\n",
       "      <td>2019-03-09</td>\n",
       "    </tr>\n",
       "    <tr>\n",
       "      <th>4</th>\n",
       "      <td>I went to Thailand on a trip and found the are...</td>\n",
       "      <td>LPT - always take a picture of the number plat...</td>\n",
       "      <td>self.LifeProTips</td>\n",
       "      <td>1552170935</td>\n",
       "      <td>1</td>\n",
       "      <td>LifeProTips</td>\n",
       "      <td>True</td>\n",
       "      <td>2019-03-09</td>\n",
       "    </tr>\n",
       "  </tbody>\n",
       "</table>\n",
       "</div>"
      ],
      "text/plain": [
       "                                            selftext  \\\n",
       "0                                                      \n",
       "1                                                      \n",
       "2                                          [removed]   \n",
       "3                                          [removed]   \n",
       "4  I went to Thailand on a trip and found the are...   \n",
       "\n",
       "                                               title            domain  \\\n",
       "0  LPT: Put a sneaker on a turkey leg and let you...  self.LifeProTips   \n",
       "1  LPT: Let other people explain concepts to you,...  self.LifeProTips   \n",
       "2  Not sure where to ask this question. But I had...  self.LifeProTips   \n",
       "3  LPT: To peel a garlic clove, cut it lengthwise...  self.LifeProTips   \n",
       "4  LPT - always take a picture of the number plat...  self.LifeProTips   \n",
       "\n",
       "   created_utc  num_comments    subreddit  is_self   timestamp  \n",
       "0   1552170236             1  LifeProTips     True  2019-03-09  \n",
       "1   1552170252           112  LifeProTips     True  2019-03-09  \n",
       "2   1552170315             2  LifeProTips     True  2019-03-09  \n",
       "3   1552170365             1  LifeProTips     True  2019-03-09  \n",
       "4   1552170935             1  LifeProTips     True  2019-03-09  "
      ]
     },
     "execution_count": 7,
     "metadata": {},
     "output_type": "execute_result"
    }
   ],
   "source": [
    "#Assign to variable and check the data \n",
    "lpt_df  = pd.DataFrame(lpt)\n",
    "lpt_df.head()"
   ]
  },
  {
   "cell_type": "code",
   "execution_count": 8,
   "metadata": {},
   "outputs": [
    {
     "data": {
      "text/html": [
       "<div>\n",
       "<style scoped>\n",
       "    .dataframe tbody tr th:only-of-type {\n",
       "        vertical-align: middle;\n",
       "    }\n",
       "\n",
       "    .dataframe tbody tr th {\n",
       "        vertical-align: top;\n",
       "    }\n",
       "\n",
       "    .dataframe thead th {\n",
       "        text-align: right;\n",
       "    }\n",
       "</style>\n",
       "<table border=\"1\" class=\"dataframe\">\n",
       "  <thead>\n",
       "    <tr style=\"text-align: right;\">\n",
       "      <th></th>\n",
       "      <th>selftext</th>\n",
       "      <th>title</th>\n",
       "      <th>domain</th>\n",
       "      <th>created_utc</th>\n",
       "      <th>num_comments</th>\n",
       "      <th>subreddit</th>\n",
       "      <th>is_self</th>\n",
       "      <th>timestamp</th>\n",
       "    </tr>\n",
       "  </thead>\n",
       "  <tbody>\n",
       "    <tr>\n",
       "      <th>0</th>\n",
       "      <td></td>\n",
       "      <td>ELI5 can i turn my NAS in to an server? and if...</td>\n",
       "      <td>self.explainlikeimfive</td>\n",
       "      <td>1552169665</td>\n",
       "      <td>5</td>\n",
       "      <td>explainlikeimfive</td>\n",
       "      <td>True</td>\n",
       "      <td>2019-03-09</td>\n",
       "    </tr>\n",
       "    <tr>\n",
       "      <th>1</th>\n",
       "      <td>[removed]</td>\n",
       "      <td>Why do game consoles not need a 3 prong plug w...</td>\n",
       "      <td>self.explainlikeimfive</td>\n",
       "      <td>1552169800</td>\n",
       "      <td>0</td>\n",
       "      <td>explainlikeimfive</td>\n",
       "      <td>True</td>\n",
       "      <td>2019-03-09</td>\n",
       "    </tr>\n",
       "    <tr>\n",
       "      <th>2</th>\n",
       "      <td></td>\n",
       "      <td>ELI5: If your balls are outside of your body t...</td>\n",
       "      <td>self.explainlikeimfive</td>\n",
       "      <td>1552169851</td>\n",
       "      <td>1</td>\n",
       "      <td>explainlikeimfive</td>\n",
       "      <td>True</td>\n",
       "      <td>2019-03-09</td>\n",
       "    </tr>\n",
       "    <tr>\n",
       "      <th>3</th>\n",
       "      <td>[removed]</td>\n",
       "      <td>My family utility bill is ~$400 WHY?</td>\n",
       "      <td>self.explainlikeimfive</td>\n",
       "      <td>1552170170</td>\n",
       "      <td>2</td>\n",
       "      <td>explainlikeimfive</td>\n",
       "      <td>True</td>\n",
       "      <td>2019-03-09</td>\n",
       "    </tr>\n",
       "    <tr>\n",
       "      <th>4</th>\n",
       "      <td></td>\n",
       "      <td>ELI5: what’s the difference between computer g...</td>\n",
       "      <td>self.explainlikeimfive</td>\n",
       "      <td>1552170362</td>\n",
       "      <td>2</td>\n",
       "      <td>explainlikeimfive</td>\n",
       "      <td>True</td>\n",
       "      <td>2019-03-09</td>\n",
       "    </tr>\n",
       "  </tbody>\n",
       "</table>\n",
       "</div>"
      ],
      "text/plain": [
       "    selftext                                              title  \\\n",
       "0             ELI5 can i turn my NAS in to an server? and if...   \n",
       "1  [removed]  Why do game consoles not need a 3 prong plug w...   \n",
       "2             ELI5: If your balls are outside of your body t...   \n",
       "3  [removed]               My family utility bill is ~$400 WHY?   \n",
       "4             ELI5: what’s the difference between computer g...   \n",
       "\n",
       "                   domain  created_utc  num_comments          subreddit  \\\n",
       "0  self.explainlikeimfive   1552169665             5  explainlikeimfive   \n",
       "1  self.explainlikeimfive   1552169800             0  explainlikeimfive   \n",
       "2  self.explainlikeimfive   1552169851             1  explainlikeimfive   \n",
       "3  self.explainlikeimfive   1552170170             2  explainlikeimfive   \n",
       "4  self.explainlikeimfive   1552170362             2  explainlikeimfive   \n",
       "\n",
       "   is_self   timestamp  \n",
       "0     True  2019-03-09  \n",
       "1     True  2019-03-09  \n",
       "2     True  2019-03-09  \n",
       "3     True  2019-03-09  \n",
       "4     True  2019-03-09  "
      ]
     },
     "execution_count": 8,
     "metadata": {},
     "output_type": "execute_result"
    }
   ],
   "source": [
    "#Assign to variable and check the data \n",
    "eli5_df = pd.DataFrame(eli5)\n",
    "eli5_df.head()"
   ]
  },
  {
   "cell_type": "code",
   "execution_count": 9,
   "metadata": {
    "scrolled": false
   },
   "outputs": [
    {
     "data": {
      "text/html": [
       "<div>\n",
       "<style scoped>\n",
       "    .dataframe tbody tr th:only-of-type {\n",
       "        vertical-align: middle;\n",
       "    }\n",
       "\n",
       "    .dataframe tbody tr th {\n",
       "        vertical-align: top;\n",
       "    }\n",
       "\n",
       "    .dataframe thead th {\n",
       "        text-align: right;\n",
       "    }\n",
       "</style>\n",
       "<table border=\"1\" class=\"dataframe\">\n",
       "  <thead>\n",
       "    <tr style=\"text-align: right;\">\n",
       "      <th></th>\n",
       "      <th>selftext</th>\n",
       "      <th>title</th>\n",
       "      <th>domain</th>\n",
       "      <th>created_utc</th>\n",
       "      <th>num_comments</th>\n",
       "      <th>subreddit</th>\n",
       "      <th>is_self</th>\n",
       "      <th>timestamp</th>\n",
       "    </tr>\n",
       "  </thead>\n",
       "  <tbody>\n",
       "    <tr>\n",
       "      <th>0</th>\n",
       "      <td></td>\n",
       "      <td>LPT: Put a sneaker on a turkey leg and let you...</td>\n",
       "      <td>self.LifeProTips</td>\n",
       "      <td>1552170236</td>\n",
       "      <td>1</td>\n",
       "      <td>LifeProTips</td>\n",
       "      <td>True</td>\n",
       "      <td>2019-03-09</td>\n",
       "    </tr>\n",
       "    <tr>\n",
       "      <th>1</th>\n",
       "      <td></td>\n",
       "      <td>LPT: Let other people explain concepts to you,...</td>\n",
       "      <td>self.LifeProTips</td>\n",
       "      <td>1552170252</td>\n",
       "      <td>112</td>\n",
       "      <td>LifeProTips</td>\n",
       "      <td>True</td>\n",
       "      <td>2019-03-09</td>\n",
       "    </tr>\n",
       "    <tr>\n",
       "      <th>2</th>\n",
       "      <td>[removed]</td>\n",
       "      <td>Not sure where to ask this question. But I had...</td>\n",
       "      <td>self.LifeProTips</td>\n",
       "      <td>1552170315</td>\n",
       "      <td>2</td>\n",
       "      <td>LifeProTips</td>\n",
       "      <td>True</td>\n",
       "      <td>2019-03-09</td>\n",
       "    </tr>\n",
       "    <tr>\n",
       "      <th>3</th>\n",
       "      <td>[removed]</td>\n",
       "      <td>LPT: To peel a garlic clove, cut it lengthwise...</td>\n",
       "      <td>self.LifeProTips</td>\n",
       "      <td>1552170365</td>\n",
       "      <td>1</td>\n",
       "      <td>LifeProTips</td>\n",
       "      <td>True</td>\n",
       "      <td>2019-03-09</td>\n",
       "    </tr>\n",
       "    <tr>\n",
       "      <th>4</th>\n",
       "      <td>I went to Thailand on a trip and found the are...</td>\n",
       "      <td>LPT - always take a picture of the number plat...</td>\n",
       "      <td>self.LifeProTips</td>\n",
       "      <td>1552170935</td>\n",
       "      <td>1</td>\n",
       "      <td>LifeProTips</td>\n",
       "      <td>True</td>\n",
       "      <td>2019-03-09</td>\n",
       "    </tr>\n",
       "  </tbody>\n",
       "</table>\n",
       "</div>"
      ],
      "text/plain": [
       "                                            selftext  \\\n",
       "0                                                      \n",
       "1                                                      \n",
       "2                                          [removed]   \n",
       "3                                          [removed]   \n",
       "4  I went to Thailand on a trip and found the are...   \n",
       "\n",
       "                                               title            domain  \\\n",
       "0  LPT: Put a sneaker on a turkey leg and let you...  self.LifeProTips   \n",
       "1  LPT: Let other people explain concepts to you,...  self.LifeProTips   \n",
       "2  Not sure where to ask this question. But I had...  self.LifeProTips   \n",
       "3  LPT: To peel a garlic clove, cut it lengthwise...  self.LifeProTips   \n",
       "4  LPT - always take a picture of the number plat...  self.LifeProTips   \n",
       "\n",
       "   created_utc  num_comments    subreddit  is_self   timestamp  \n",
       "0   1552170236             1  LifeProTips     True  2019-03-09  \n",
       "1   1552170252           112  LifeProTips     True  2019-03-09  \n",
       "2   1552170315             2  LifeProTips     True  2019-03-09  \n",
       "3   1552170365             1  LifeProTips     True  2019-03-09  \n",
       "4   1552170935             1  LifeProTips     True  2019-03-09  "
      ]
     },
     "execution_count": 9,
     "metadata": {},
     "output_type": "execute_result"
    }
   ],
   "source": [
    "#Concatenate the data from both subreddits \n",
    "df = pd.concat([lpt, eli5])\n",
    "df.head()"
   ]
  },
  {
   "cell_type": "code",
   "execution_count": 10,
   "metadata": {
    "scrolled": false
   },
   "outputs": [
    {
     "data": {
      "text/plain": [
       "(8974, 8)"
      ]
     },
     "execution_count": 10,
     "metadata": {},
     "output_type": "execute_result"
    }
   ],
   "source": [
    "#Check that we have enough rows \n",
    "df.shape"
   ]
  },
  {
   "cell_type": "code",
   "execution_count": 11,
   "metadata": {},
   "outputs": [],
   "source": [
    "#Export combined data to a csv (exclude the index column \"Unnamed: 0\")\n",
    "df.to_csv('combined_reddit_data.csv', index=False)"
   ]
  },
  {
   "cell_type": "code",
   "execution_count": null,
   "metadata": {},
   "outputs": [],
   "source": []
  }
 ],
 "metadata": {
  "kernelspec": {
   "display_name": "DSI",
   "language": "python",
   "name": "dsi"
  },
  "language_info": {
   "codemirror_mode": {
    "name": "ipython",
    "version": 3
   },
   "file_extension": ".py",
   "mimetype": "text/x-python",
   "name": "python",
   "nbconvert_exporter": "python",
   "pygments_lexer": "ipython3",
   "version": "3.7.2"
  }
 },
 "nbformat": 4,
 "nbformat_minor": 2
}
